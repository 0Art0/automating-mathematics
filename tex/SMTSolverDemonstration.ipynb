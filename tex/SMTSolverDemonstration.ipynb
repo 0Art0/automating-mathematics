{
 "cells": [
  {
   "cell_type": "markdown",
   "metadata": {},
   "source": [
    "# Euclidean Geometry by high-peformance SMT solvers?"
   ]
  },
  {
   "cell_type": "markdown",
   "metadata": {},
   "source": [
    "### Siddhartha Gadgil and Anand Rao Tadipatri"
   ]
  },
  {
   "cell_type": "code",
   "execution_count": 102,
   "metadata": {},
   "outputs": [],
   "source": [
    "# %pip install z3-solver\n",
    "from z3 import *\n",
    "set_param(proof=True)"
   ]
  },
  {
   "cell_type": "markdown",
   "metadata": {},
   "source": [
    "---\n",
    "## Warmup: A simple problem"
   ]
  },
  {
   "cell_type": "markdown",
   "metadata": {},
   "source": [
    "As a warmup and sanity check, consider\n",
    "the problem of showing that for an arbitrary point $P = (x, y)$, the three points\n",
    "$P = (x, y)$, $O = (0, 0)$ and $−P = (−x, −y)$ are collinear."
   ]
  },
  {
   "cell_type": "code",
   "execution_count": 103,
   "metadata": {},
   "outputs": [],
   "source": [
    "P = (x, y) = Reals('x y')  #the coordinates of the point P\n",
    "O = (0, 0)  #the coordinates of the origin\n",
    "Q = (-x, -y)  #the reflection of the point P about the origin"
   ]
  },
  {
   "cell_type": "markdown",
   "metadata": {},
   "source": [
    "#### Equations for collinearity\n",
    "\n",
    "The condition for three points $(x_1, y_1), (x_2, y_2) \\text{ and } (x_3, y_3)$ being collinear is \n",
    "\n",
    "$$\n",
    "\\frac{y_2 - y_1}{x_2 - x_1} = \\frac{y_3 - y_1}{x_3 - x_1}\n",
    "$$\n",
    "\n",
    "Intuitively, this says that the slope of the line joining the points $(x_1, y_1)$ and $(x_2, y_2)$ is equal to the slope of the line joining $(x_1, y_1)$ and $(x_3, y_3)$.\n",
    "\n",
    "The above expression is equivalent to\n",
    "\n",
    "$$(y_2 - y_1) \\cdot (x_3 - x_1) = (y_3 - y_1) \\cdot (x_2 - x_1)$$"
   ]
  },
  {
   "cell_type": "code",
   "execution_count": 104,
   "metadata": {},
   "outputs": [],
   "source": [
    "def are_collinear(p, q, r):\n",
    "    \"\"\"\n",
    "    Checks if three points - `p`, `q`, `r` - are collinear.\n",
    "    \n",
    "    Here, `p[0]` and `p[1]` denote the *x* and *y* coordinates of `p` respectively.\n",
    "    \"\"\"\n",
    "    return ( (q[1]-p[1])*(r[0]-p[0]) == (r[1]-p[1])*(q[0]-p[0]) )"
   ]
  },
  {
   "cell_type": "code",
   "execution_count": 105,
   "metadata": {},
   "outputs": [
    {
     "name": "stdout",
     "output_type": "stream",
     "text": [
      "proved\n"
     ]
    }
   ],
   "source": [
    "prove((are_collinear(P, O, Q)))"
   ]
  },
  {
   "cell_type": "markdown",
   "metadata": {},
   "source": [
    "This shows that the claim that the points $P$, $O$ and $Q$ are collinear is true."
   ]
  },
  {
   "cell_type": "markdown",
   "metadata": {},
   "source": [
    "Internally, the `prove` function works roughly in the following way:\n",
    "- The given claim (that the points `P`, `O` and `Q` are collinear is first negated.\n",
    "- The solver then checks whether the given system of equations is satisfiable, i.e., whether there are real numbers `x` and `y` for which `Not(are_collinear((x, y), (0, 0), (-x, -y))` holds.\n",
    "- If no such solutions are found, this shows by contradiction that the initial claim was correct, namely that for any point `(x, y)`, the points `(x, y), (0, 0), (-x, -y)` are collinear."
   ]
  },
  {
   "cell_type": "code",
   "execution_count": 109,
   "metadata": {},
   "outputs": [
    {
     "data": {
      "text/html": [
       "<b>unsat</b>"
      ],
      "text/plain": [
       "unsat"
      ]
     },
     "execution_count": 109,
     "metadata": {},
     "output_type": "execute_result"
    }
   ],
   "source": [
    "collinearity_solverver = Solver()\n",
    "collinearity_solver.add(Not(are_collinear(P, O, Q)))  #the negation of the statement\n",
    "collinearity_solver.check()  #`unsat` indicates that the given equation is not satisfiable"
   ]
  },
  {
   "cell_type": "markdown",
   "metadata": {},
   "source": [
    "This is the statement given to the solver"
   ]
  },
  {
   "cell_type": "code",
   "execution_count": 107,
   "metadata": {},
   "outputs": [
    {
     "data": {
      "text/html": [
       "[&not;((0 - y)&middot;(-x - x) = (-y - y)&middot;(0 - x))]"
      ],
      "text/plain": [
       "[Not((0 - y)*(-x - x) == (-y - y)*(0 - x))]"
      ]
     },
     "execution_count": 107,
     "metadata": {},
     "output_type": "execute_result"
    }
   ],
   "source": [
    "collinearity_solver  #the statement of the claim"
   ]
  },
  {
   "cell_type": "markdown",
   "metadata": {},
   "source": [
    "This is the code in SMT2 format"
   ]
  },
  {
   "cell_type": "code",
   "execution_count": 108,
   "metadata": {},
   "outputs": [
    {
     "name": "stdout",
     "output_type": "stream",
     "text": [
      "(declare-fun x () Real)\n",
      "(declare-fun y () Real)\n",
      "(assert (let ((a!1 (= (* (- 0.0 y) (- (- x) x)) (* (- (- y) y) (- 0.0 x)))))\n",
      "  (not a!1)))\n",
      "\n"
     ]
    }
   ],
   "source": [
    "print(collinearity_solver.sexpr())  #this is how the code is represented in SMT2 format"
   ]
  },
  {
   "cell_type": "markdown",
   "metadata": {},
   "source": [
    "One can also use the Z3 solver to produce a proof of the result using the solver, which can then be verified independently to ensure that it is correct."
   ]
  },
  {
   "cell_type": "code",
   "execution_count": 110,
   "metadata": {},
   "outputs": [
    {
     "data": {
      "text/html": [
       "mp(asserted(&not;((0 - y)&middot;(-x - x) = (-y - y)&middot;(0 - x))),\n",
       "   trans(monotonicity(trans(monotonicity(trans(trans(monotonicity(trans(rewrite(0 -\n",
       "                                        y =\n",
       "                                        0 + -1&middot;y),\n",
       "                                        rewrite(0 + -1&middot;y =\n",
       "                                        -1&middot;y),\n",
       "                                        0 - y = -1&middot;y),\n",
       "                                        trans(trans(monotonicity(rewrite(-x =\n",
       "                                        -1&middot;x),\n",
       "                                        -x - x = -1&middot;x - x),\n",
       "                                        rewrite(-1&middot;x - x =\n",
       "                                        -1&middot;x + -1&middot;x),\n",
       "                                        -x - x = -1&middot;x + -1&middot;x),\n",
       "                                        rewrite(-1&middot;x + -1&middot;x =\n",
       "                                        -2&middot;x),\n",
       "                                        -x - x = -2&middot;x),\n",
       "                                        (0 - y)&middot;(-x - x) =\n",
       "                                        -1&middot;y&middot;-2&middot;x),\n",
       "                                        rewrite(-1&middot;y&middot;-2&middot;x =\n",
       "                                        2&middot;y&middot;x),\n",
       "                                        (0 - y)&middot;(-x - x) =\n",
       "                                        2&middot;y&middot;x),\n",
       "                                        rewrite(2&middot;y&middot;x =\n",
       "                                        2&middot;x&middot;y),\n",
       "                                        (0 - y)&middot;(-x - x) =\n",
       "                                        2&middot;x&middot;y),\n",
       "                                        trans(trans(monotonicity(trans(trans(monotonicity(rewrite(-y =\n",
       "                                        -1&middot;y),\n",
       "                                        -y - y = -1&middot;y - y),\n",
       "                                        rewrite(-1&middot;y - y =\n",
       "                                        -1&middot;y + -1&middot;y),\n",
       "                                        -y - y = -1&middot;y + -1&middot;y),\n",
       "                                        rewrite(-1&middot;y + -1&middot;y =\n",
       "                                        -2&middot;y),\n",
       "                                        -y - y = -2&middot;y),\n",
       "                                        trans(rewrite(0 - x =\n",
       "                                        0 + -1&middot;x),\n",
       "                                        rewrite(0 + -1&middot;x =\n",
       "                                        -1&middot;x),\n",
       "                                        0 - x = -1&middot;x),\n",
       "                                        (-y - y)&middot;(0 - x) =\n",
       "                                        -2&middot;y&middot;-1&middot;x),\n",
       "                                        rewrite(-2&middot;y&middot;-1&middot;x =\n",
       "                                        2&middot;y&middot;x),\n",
       "                                        (-y - y)&middot;(0 - x) =\n",
       "                                        2&middot;y&middot;x),\n",
       "                                        rewrite(2&middot;y&middot;x =\n",
       "                                        2&middot;x&middot;y),\n",
       "                                        (-y - y)&middot;(0 - x) =\n",
       "                                        2&middot;x&middot;y),\n",
       "                                        ((0 - y)&middot;(-x - x) =\n",
       "                                        (-y - y)&middot;(0 - x)) =\n",
       "                                        (2&middot;x&middot;y = 2&middot;x&middot;y)),\n",
       "                            rewrite((2&middot;x&middot;y = 2&middot;x&middot;y) = True),\n",
       "                            ((0 - y)&middot;(-x - x) =\n",
       "                             (-y - y)&middot;(0 - x)) =\n",
       "                            True),\n",
       "                      &not;((0 - y)&middot;(-x - x) = (-y - y)&middot;(0 - x)) =\n",
       "                      &not;True),\n",
       "         rewrite(&not;True = False),\n",
       "         &not;((0 - y)&middot;(-x - x) = (-y - y)&middot;(0 - x)) = False),\n",
       "   False)"
      ],
      "text/plain": [
       "mp(asserted(Not((0 - y)*(-x - x) == (-y - y)*(0 - x))),\n",
       "   trans(monotonicity(trans(monotonicity(trans(trans(monotonicity(trans(rewrite(0 -\n",
       "                                        y ==\n",
       "                                        0 + -1*y),\n",
       "                                        rewrite(0 + -1*y ==\n",
       "                                        -1*y),\n",
       "                                        0 - y == -1*y),\n",
       "                                        trans(trans(monotonicity(rewrite(-x ==\n",
       "                                        -1*x),\n",
       "                                        -x - x == -1*x - x),\n",
       "                                        rewrite(-1*x - x ==\n",
       "                                        -1*x + -1*x),\n",
       "                                        -x - x ==\n",
       "                                        -1*x + -1*x),\n",
       "                                        rewrite(-1*x + -1*x ==\n",
       "                                        -2*x),\n",
       "                                        -x - x == -2*x),\n",
       "                                        (0 - y)*(-x - x) ==\n",
       "                                        -1*y*-2*x),\n",
       "                                        rewrite(-1*y*-2*x ==\n",
       "                                        2*y*x),\n",
       "                                        (0 - y)*(-x - x) ==\n",
       "                                        2*y*x),\n",
       "                                        rewrite(2*y*x ==\n",
       "                                        2*x*y),\n",
       "                                        (0 - y)*(-x - x) ==\n",
       "                                        2*x*y),\n",
       "                                        trans(trans(monotonicity(trans(trans(monotonicity(rewrite(-y ==\n",
       "                                        -1*y),\n",
       "                                        -y - y == -1*y - y),\n",
       "                                        rewrite(-1*y - y ==\n",
       "                                        -1*y + -1*y),\n",
       "                                        -y - y ==\n",
       "                                        -1*y + -1*y),\n",
       "                                        rewrite(-1*y + -1*y ==\n",
       "                                        -2*y),\n",
       "                                        -y - y == -2*y),\n",
       "                                        trans(rewrite(0 - x ==\n",
       "                                        0 + -1*x),\n",
       "                                        rewrite(0 + -1*x ==\n",
       "                                        -1*x),\n",
       "                                        0 - x == -1*x),\n",
       "                                        (-y - y)*(0 - x) ==\n",
       "                                        -2*y*-1*x),\n",
       "                                        rewrite(-2*y*-1*x ==\n",
       "                                        2*y*x),\n",
       "                                        (-y - y)*(0 - x) ==\n",
       "                                        2*y*x),\n",
       "                                        rewrite(2*y*x ==\n",
       "                                        2*x*y),\n",
       "                                        (-y - y)*(0 - x) ==\n",
       "                                        2*x*y),\n",
       "                                        ((0 - y)*(-x - x) ==\n",
       "                                        (-y - y)*(0 - x)) ==\n",
       "                                        (2*x*y == 2*x*y)),\n",
       "                            rewrite((2*x*y == 2*x*y) == True),\n",
       "                            ((0 - y)*(-x - x) ==\n",
       "                             (-y - y)*(0 - x)) ==\n",
       "                            True),\n",
       "                      Not((0 - y)*(-x - x) ==\n",
       "                          (-y - y)*(0 - x)) ==\n",
       "                      Not(True)),\n",
       "         rewrite(Not(True) == False),\n",
       "         Not((0 - y)*(-x - x) == (-y - y)*(0 - x)) == False),\n",
       "   False)"
      ]
     },
     "execution_count": 110,
     "metadata": {},
     "output_type": "execute_result"
    }
   ],
   "source": [
    "collinearity_solver.proof()"
   ]
  },
  {
   "cell_type": "markdown",
   "metadata": {},
   "source": [
    "---\n",
    "## Menelaus' theorem"
   ]
  },
  {
   "cell_type": "code",
   "execution_count": 75,
   "metadata": {},
   "outputs": [],
   "source": [
    "#the description of the theorem will be later copied from the article"
   ]
  },
  {
   "cell_type": "code",
   "execution_count": 76,
   "metadata": {},
   "outputs": [],
   "source": [
    "#A, B, C are the vertices of the triangle\n",
    "A = (x_a, y_a) = Reals('x_a y_a')\n",
    "B = (x_b, y_b) = Reals('x_b y_b')\n",
    "C = (x_c, y_c) = Reals('x_c y_c')\n",
    "\n",
    "\"\"\"\n",
    "Each of the edges of the triangle can be parameterised by a single variable,\n",
    "which is equal to the first vertex at 0 and equal to the second vertex at 1.\n",
    "\"\"\"\n",
    "\n",
    "r, s, t = Reals('r s t')\n",
    "\n",
    "def cut(l, P, Q):\n",
    "    \"\"\"\n",
    "    With the line PQ parameterised as described above,\n",
    "    this function returns the point R obtained when the parameter is equal to `l`\n",
    "    \"\"\"\n",
    "    return (P[0] + l*(Q[0] - P[0]), P[1] + l*(Q[1] - P[1]))\n",
    "\n",
    "# D, E, F are points on the edges AB, BC, CA respectively\n",
    "D, E, F = cut(r, A, B), cut(s, B, C), cut(t, C, A)\n",
    "\n",
    "def d(p, q):\n",
    "    \"\"\"\n",
    "    Returns the square of the Euclidean distance between two points.\n",
    "    \"\"\"\n",
    "    return (p[0] - q[0])**2 + (p[1] - q[1])**2\n",
    "\n",
    "def in_bounds(l):\n",
    "    \"\"\"\n",
    "    Checks whether the parameter is within the range (0, 1),\n",
    "    i.e, whether the point corresponding to the parameter value `l` is \n",
    "    contained within the corresponding edge or on an extension of it.\n",
    "    \"\"\"\n",
    "    return And(0 < l, l < 1)\n",
    "\n",
    "odd_not_in_bounds = Xor(Xor(Not(in_bounds(r)), Not(in_bounds(s))), Not(in_bounds(t)))\n",
    "\n",
    "dist_eq = d(A, D) * d(B, E) * d(C, F) == d(D, B) * d(E, C) * d(F, A)"
   ]
  },
  {
   "cell_type": "markdown",
   "metadata": {},
   "source": [
    "These are the forward and reverse implication parts of the theorem statement."
   ]
  },
  {
   "cell_type": "code",
   "execution_count": 77,
   "metadata": {},
   "outputs": [],
   "source": [
    "menelaus_theorem_fwd = Implies(dist_eq, are_collinear(D, E, F))\n",
    "menelaus_theorem_rev = Implies(are_collinear(D, E, F), dist_eq)\n",
    "\n",
    "menelaus_theorem = And(menelaus_theorem_fwd, menelaus_theorem_rev)"
   ]
  },
  {
   "cell_type": "code",
   "execution_count": 80,
   "metadata": {},
   "outputs": [
    {
     "data": {
      "text/html": [
       "<b>unsat</b>"
      ],
      "text/plain": [
       "unsat"
      ]
     },
     "execution_count": 80,
     "metadata": {},
     "output_type": "execute_result"
    }
   ],
   "source": [
    "set_param(proof = False)\n",
    "\n",
    "menelaus_solver = Solver()\n",
    "\n",
    "menelaus_solver.add(Not(are_collinear(A, B, C)))\n",
    "menelaus_solver.add(odd_not_in_bounds == True)\n",
    "menelaus_solver.add(Not(menelaus_theorem))\n",
    "\n",
    "menelaus_solver.check()"
   ]
  },
  {
   "cell_type": "markdown",
   "metadata": {},
   "source": [
    "As before, since the negation of the theorem is unsatisfiable, the theorem must be true.\n",
    "\n",
    "The first line of the above cell - `set_param(proof = False)` - asks the solver to check satisfiability without trying to produce a proof. If one asks for a proof by changing the line to - `set_param(proof = True)` - the solver times out after a few seconds and returns `unknown`.\n",
    "\n",
    "Thus, the Z3 solver can be used to *solve*, but not *prove* Menelaus' theorem."
   ]
  },
  {
   "cell_type": "markdown",
   "metadata": {},
   "source": [
    "---\n",
    "## Pappus' theorem"
   ]
  },
  {
   "cell_type": "code",
   "execution_count": 82,
   "metadata": {},
   "outputs": [],
   "source": [
    "#the description of the theorem will be later copied from the article"
   ]
  },
  {
   "cell_type": "code",
   "execution_count": 84,
   "metadata": {},
   "outputs": [],
   "source": [
    "for s in ('a', 'b', 'c', 'A', 'B', 'C', 'P', 'Q', 'R'):\n",
    "    #initialise the variables\n",
    "    exec(\"x_{n} = Real('x_{n}')\".format(n = s))\n",
    "    exec(\"y_{n} = Real('y_{n}')\".format(n = s))\n",
    "\n",
    "    #create the point\n",
    "    exec(\"{v} = (x_{n}, y_{n})\".format(v = s, n = s))\n",
    "\n",
    "u, v, U, V = Reals('u v U V')  #the scaling parameters\n",
    "\n",
    "a, b, c = (1, 0), (1+u, 0), (1+u+v, 0)  #the points on the first line\n",
    "A, B, C = A, (x_A*(1+U), y_A*(1+U)), (x_A*(1+U+V), y_A*(1+U+V))  #the points on the second line\n",
    "\n",
    "def all_distinct(pts):\n",
    "    \"\"\"\n",
    "    Checks whether all points in the list `pts` are distinct.\n",
    "    \"\"\"\n",
    "    return And([Or(Not(p[0] == q[0]), Not(p[1] == q[1])) for (i, p) in enumerate(pts) for (j, q) in enumerate(pts) if j < i])\n",
    "\n",
    "def parallel(p_1, p_2, q_1, q_2):\n",
    "    \"\"\"\n",
    "    Checks whether the line passing through p_1 and p_2 is parallel to the line passing through q_1 and q_2.\n",
    "    This is done by checking whether the slopes of the two lines are identical.\n",
    "    \"\"\"\n",
    "    return (p_2[1] - p_1[1])*(q_2[0] - q_1[0]) == (p_2[0] - p_1[0])*(q_2[1] - q_1[1])\n",
    "\n",
    "pappus_theorem = Implies(And([are_collinear(p, q, r) for (p, q, r) in (\n",
    "    (a, b, c), (A, B, C),\n",
    "    (A, b, P), (B, a, P),\n",
    "    (B, c, Q), (C, b, Q),\n",
    "    (C, a, R), (A, c, R)\n",
    ")]), are_collinear(P, Q, R))"
   ]
  },
  {
   "cell_type": "code",
   "execution_count": 93,
   "metadata": {},
   "outputs": [
    {
     "data": {
      "text/html": [
       "<b>unsat</b>"
      ],
      "text/plain": [
       "unsat"
      ]
     },
     "execution_count": 93,
     "metadata": {},
     "output_type": "execute_result"
    }
   ],
   "source": [
    "set_param(proof = False)\n",
    "\n",
    "pappus_solver = Solver()\n",
    "\n",
    "pappus_solver.add(u > 0)\n",
    "pappus_solver.add(v > 0)\n",
    "pappus_solver.add(U > 0)\n",
    "pappus_solver.add(V > 0)\n",
    "pappus_solver.add(all_distinct([a, b, c]))\n",
    "pappus_solver.add(all_distinct([A, B, C]))\n",
    "pappus_solver.add(Not(parallel(a, b, A, B)))\n",
    "\n",
    "pappus_solver.add(Not(pappus_theorem))\n",
    "\n",
    "pappus_solver.check()"
   ]
  },
  {
   "cell_type": "markdown",
   "metadata": {},
   "source": [
    "As with Menelaus' theorem, Pappus' theorem can be solved by the Z3 solver, but not proved.\n",
    "\n",
    "---"
   ]
  }
 ],
 "metadata": {
  "kernelspec": {
   "display_name": "Python 3",
   "language": "python",
   "name": "python3"
  },
  "language_info": {
   "codemirror_mode": {
    "name": "ipython",
    "version": 3
   },
   "file_extension": ".py",
   "mimetype": "text/x-python",
   "name": "python",
   "nbconvert_exporter": "python",
   "pygments_lexer": "ipython3",
   "version": "3.8.5"
  }
 },
 "nbformat": 4,
 "nbformat_minor": 4
}
